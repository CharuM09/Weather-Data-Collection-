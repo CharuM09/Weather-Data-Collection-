Data Collection using Weather Underground API :


import sys, json, urllib, csv, requests
from dateutil.rrule import *
from dateutil.parser import *
from datetime import *


api = '74168f2a5f4a9177'
station = 'FL/Tampa'

# Create list of dates between start and end
days = list(rrule(DAILY, dtstart=parse('20001231'), until=parse('20171231')))


f = open('Data8.csv', 'w')
DK = csv.writer(f, lineterminator='\n')

for day in days:
	r = requests.get('http://api.wunderground.com/api/' + api + '/history_' + day.str("%Y%m%d") + '/q/' + station + '.json')
	data = r.json()['history']['observations']
	for item in data:
		DK.writerow([item['date']['pretty'],item['tempi'],item['tempm'],item['dewptm'],item['dewpti'],item['hum'],item['wspdm'],item['wspdi'],item['wgustm'],item['wgusti'],item['wdird'],item['wdire'],item['vism'],item['visi'],item['pressurem'],item['pressurei'],item['windchillm'],item['windchilli'],item['heatindexm'],item['heatindexi'],item['precipm'],item['precipi'],item['conds'],item['fog'],item['rain'],item['snow'],item['hail'],item['thunder'],item['tornado']])
	
f.close()
